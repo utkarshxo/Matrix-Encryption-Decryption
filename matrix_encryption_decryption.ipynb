{
 "cells": [
  {
   "cell_type": "code",
   "execution_count": 1,
   "id": "20e4ed74",
   "metadata": {},
   "outputs": [],
   "source": [
    "import numpy as np\n",
    "import string\n"
   ]
  },
  {
   "cell_type": "markdown",
   "id": "15470b14",
   "metadata": {},
   "source": [
    "# Generates a random invertible matrix of a given size.\n"
   ]
  },
  {
   "cell_type": "code",
   "execution_count": 19,
   "id": "63875bff",
   "metadata": {},
   "outputs": [],
   "source": [
    "def generate_key_matrix(size=2):\n",
    "   \n",
    "    while True:\n",
    "        matrix = np.random.randint(1, 26, size=(size, size))\n",
    "        if np.linalg.det(matrix) != 0:  # Check if the matrix is invertible\n",
    "            return matrix\n",
    "\n",
    "\n",
    "\n"
   ]
  },
  {
   "cell_type": "markdown",
   "id": "5cb595ba",
   "metadata": {},
   "source": [
    "# Converts text to a numerical matrix. Each character is represented by its ASCII value."
   ]
  },
  {
   "cell_type": "code",
   "execution_count": 20,
   "id": "2efaf747",
   "metadata": {},
   "outputs": [],
   "source": [
    "def text_to_matrix(text, size=2):\n",
    " \n",
    "    # Pad text to fit the matrix size\n",
    "    while len(text) % size != 0:\n",
    "        text += ' '  # Padding with spaces\n",
    "\n",
    "    text_values = [ord(char) - ord('a') + 1 for char in text.lower()]  # Convert to numbers\n",
    "    return np.array(text_values).reshape(-1, size)\n"
   ]
  },
  {
   "cell_type": "markdown",
   "id": "bdd84583",
   "metadata": {},
   "source": [
    "# Converts a numerical matrix back to text."
   ]
  },
  {
   "cell_type": "code",
   "execution_count": 21,
   "id": "a1930d4f",
   "metadata": {},
   "outputs": [],
   "source": [
    "def matrix_to_text(matrix):\n",
    "\n",
    "   \n",
    "    \n",
    "    text = ''\n",
    "    for value in matrix.flatten():\n",
    "        text += chr(int(value) + ord('a') - 1)\n",
    "    return text\n"
   ]
  },
  {
   "cell_type": "code",
   "execution_count": 22,
   "id": "3a523352",
   "metadata": {},
   "outputs": [
    {
     "data": {
      "text/plain": [
       "(array([[23, 10],\n",
       "        [21,  3]]),\n",
       " array([[-0.0212766 ,  0.07092199],\n",
       "        [ 0.14893617, -0.16312057]]))"
      ]
     },
     "execution_count": 22,
     "metadata": {},
     "output_type": "execute_result"
    }
   ],
   "source": [
    "# Generate a 2x2 key matrix\n",
    "key_matrix = generate_key_matrix(size=2)\n",
    "inverse_key_matrix = np.linalg.inv(key_matrix)\n",
    "\n",
    "key_matrix, inverse_key_matrix  # Display the matrices\n"
   ]
  },
  {
   "cell_type": "markdown",
   "id": "54e8aaed",
   "metadata": {},
   "source": [
    "# DECRYPTION"
   ]
  },
  {
   "cell_type": "code",
   "execution_count": 24,
   "id": "a4f11e16",
   "metadata": {},
   "outputs": [
    {
     "data": {
      "text/plain": [
       "(array([[  289,    95],\n",
       "        [  528,   156],\n",
       "        [ -999,   -42],\n",
       "        [  844,   275],\n",
       "        [  666,   216],\n",
       "        [-1252,  -152]]),\n",
       " 'hello world ')"
      ]
     },
     "execution_count": 24,
     "metadata": {},
     "output_type": "execute_result"
    }
   ],
   "source": [
    "def encrypt_text(text, key_matrix):\n",
    "    \"\"\"\n",
    "    Encrypts the text using the key matrix.\n",
    "    \"\"\"\n",
    "    text_matrix = text_to_matrix(text, size=key_matrix.shape[0])\n",
    "    encrypted_matrix = np.dot(text_matrix, key_matrix)  # Matrix multiplication\n",
    "    return encrypted_matrix\n",
    "\n",
    "def decrypt_text(encrypted_matrix, inverse_key_matrix):\n",
    "    \"\"\"\n",
    "    Decrypts the text using the inverse of the key matrix.\n",
    "    \"\"\"\n",
    "    decrypted_matrix = np.dot(encrypted_matrix, inverse_key_matrix)\n",
    "    # Rounding and converting back to integers for text conversion\n",
    "    decrypted_matrix = np.round(decrypted_matrix).astype(int)\n",
    "    return matrix_to_text(decrypted_matrix)\n",
    "\n",
    "# Example text\n",
    "example_text = \"hello world\"\n",
    "\n",
    "# Encrypt the text\n",
    "encrypted_matrix = encrypt_text(example_text, key_matrix)\n",
    "\n",
    "# Decrypt the text\n",
    "decrypted_text = decrypt_text(encrypted_matrix, inverse_key_matrix)\n",
    "\n",
    "encrypted_matrix, decrypted_text  # Display the encrypted matrix and decrypted text\n",
    "\n"
   ]
  },
  {
   "cell_type": "code",
   "execution_count": null,
   "id": "49f004fb",
   "metadata": {},
   "outputs": [],
   "source": []
  },
  {
   "cell_type": "code",
   "execution_count": null,
   "id": "fd7b1a43",
   "metadata": {},
   "outputs": [],
   "source": []
  }
 ],
 "metadata": {
  "kernelspec": {
   "display_name": "Python 3 (ipykernel)",
   "language": "python",
   "name": "python3"
  },
  "language_info": {
   "codemirror_mode": {
    "name": "ipython",
    "version": 3
   },
   "file_extension": ".py",
   "mimetype": "text/x-python",
   "name": "python",
   "nbconvert_exporter": "python",
   "pygments_lexer": "ipython3",
   "version": "3.9.13"
  }
 },
 "nbformat": 4,
 "nbformat_minor": 5
}
